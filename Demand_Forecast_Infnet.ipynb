{
 "cells": [
  {
   "cell_type": "code",
   "execution_count": 1,
   "id": "3a1082fb",
   "metadata": {},
   "outputs": [],
   "source": [
    "import pandas as pd\n",
    "import numpy as np\n",
    "import matplotlib.pyplot as plt\n",
    "import seaborn as sns"
   ]
  },
  {
   "cell_type": "code",
   "execution_count": 2,
   "id": "100915b8",
   "metadata": {},
   "outputs": [],
   "source": [
    "#Lendo e transformando o arquivo CSV em um objeto pandas DataFrame nomeado de \"df\"\n",
    "df = pd.read_csv('C:/Users/juan_/Documents/GitHub/Datasets/demand.csv')"
   ]
  },
  {
   "cell_type": "code",
   "execution_count": 3,
   "id": "6e344436",
   "metadata": {},
   "outputs": [
    {
     "data": {
      "text/html": [
       "<div>\n",
       "<style scoped>\n",
       "    .dataframe tbody tr th:only-of-type {\n",
       "        vertical-align: middle;\n",
       "    }\n",
       "\n",
       "    .dataframe tbody tr th {\n",
       "        vertical-align: top;\n",
       "    }\n",
       "\n",
       "    .dataframe thead th {\n",
       "        text-align: right;\n",
       "    }\n",
       "</style>\n",
       "<table border=\"1\" class=\"dataframe\">\n",
       "  <thead>\n",
       "    <tr style=\"text-align: right;\">\n",
       "      <th></th>\n",
       "      <th>Product_Code</th>\n",
       "      <th>Warehouse</th>\n",
       "      <th>Product_Category</th>\n",
       "      <th>Date</th>\n",
       "      <th>Order_Demand</th>\n",
       "    </tr>\n",
       "  </thead>\n",
       "  <tbody>\n",
       "    <tr>\n",
       "      <th>0</th>\n",
       "      <td>Product_0993</td>\n",
       "      <td>Whse_J</td>\n",
       "      <td>Category_028</td>\n",
       "      <td>2012/7/27</td>\n",
       "      <td>100</td>\n",
       "    </tr>\n",
       "    <tr>\n",
       "      <th>1</th>\n",
       "      <td>Product_0979</td>\n",
       "      <td>Whse_J</td>\n",
       "      <td>Category_028</td>\n",
       "      <td>2012/1/19</td>\n",
       "      <td>500</td>\n",
       "    </tr>\n",
       "    <tr>\n",
       "      <th>2</th>\n",
       "      <td>Product_0979</td>\n",
       "      <td>Whse_J</td>\n",
       "      <td>Category_028</td>\n",
       "      <td>2012/2/3</td>\n",
       "      <td>500</td>\n",
       "    </tr>\n",
       "    <tr>\n",
       "      <th>3</th>\n",
       "      <td>Product_0979</td>\n",
       "      <td>Whse_J</td>\n",
       "      <td>Category_028</td>\n",
       "      <td>2012/2/9</td>\n",
       "      <td>500</td>\n",
       "    </tr>\n",
       "    <tr>\n",
       "      <th>4</th>\n",
       "      <td>Product_0979</td>\n",
       "      <td>Whse_J</td>\n",
       "      <td>Category_028</td>\n",
       "      <td>2012/3/2</td>\n",
       "      <td>500</td>\n",
       "    </tr>\n",
       "    <tr>\n",
       "      <th>...</th>\n",
       "      <td>...</td>\n",
       "      <td>...</td>\n",
       "      <td>...</td>\n",
       "      <td>...</td>\n",
       "      <td>...</td>\n",
       "    </tr>\n",
       "    <tr>\n",
       "      <th>1048570</th>\n",
       "      <td>Product_1791</td>\n",
       "      <td>Whse_J</td>\n",
       "      <td>Category_006</td>\n",
       "      <td>2016/4/27</td>\n",
       "      <td>1000</td>\n",
       "    </tr>\n",
       "    <tr>\n",
       "      <th>1048571</th>\n",
       "      <td>Product_1974</td>\n",
       "      <td>Whse_J</td>\n",
       "      <td>Category_006</td>\n",
       "      <td>2016/4/27</td>\n",
       "      <td>1</td>\n",
       "    </tr>\n",
       "    <tr>\n",
       "      <th>1048572</th>\n",
       "      <td>Product_1787</td>\n",
       "      <td>Whse_J</td>\n",
       "      <td>Category_006</td>\n",
       "      <td>2016/4/28</td>\n",
       "      <td>2500</td>\n",
       "    </tr>\n",
       "    <tr>\n",
       "      <th>1048573</th>\n",
       "      <td>Product_0901</td>\n",
       "      <td>Whse_J</td>\n",
       "      <td>Category_023</td>\n",
       "      <td>2016/10/7</td>\n",
       "      <td>50</td>\n",
       "    </tr>\n",
       "    <tr>\n",
       "      <th>1048574</th>\n",
       "      <td>Product_0704</td>\n",
       "      <td>Whse_J</td>\n",
       "      <td>Category_001</td>\n",
       "      <td>2016/6/27</td>\n",
       "      <td>4</td>\n",
       "    </tr>\n",
       "  </tbody>\n",
       "</table>\n",
       "<p>1048575 rows × 5 columns</p>\n",
       "</div>"
      ],
      "text/plain": [
       "         Product_Code Warehouse Product_Category       Date Order_Demand\n",
       "0        Product_0993    Whse_J     Category_028  2012/7/27         100 \n",
       "1        Product_0979    Whse_J     Category_028  2012/1/19         500 \n",
       "2        Product_0979    Whse_J     Category_028   2012/2/3         500 \n",
       "3        Product_0979    Whse_J     Category_028   2012/2/9         500 \n",
       "4        Product_0979    Whse_J     Category_028   2012/3/2         500 \n",
       "...               ...       ...              ...        ...          ...\n",
       "1048570  Product_1791    Whse_J     Category_006  2016/4/27        1000 \n",
       "1048571  Product_1974    Whse_J     Category_006  2016/4/27           1 \n",
       "1048572  Product_1787    Whse_J     Category_006  2016/4/28        2500 \n",
       "1048573  Product_0901    Whse_J     Category_023  2016/10/7          50 \n",
       "1048574  Product_0704    Whse_J     Category_001  2016/6/27           4 \n",
       "\n",
       "[1048575 rows x 5 columns]"
      ]
     },
     "execution_count": 3,
     "metadata": {},
     "output_type": "execute_result"
    }
   ],
   "source": [
    "#Verificando o head e tail do CSV\n",
    "df"
   ]
  },
  {
   "cell_type": "code",
   "execution_count": 4,
   "id": "cefe5576",
   "metadata": {},
   "outputs": [
    {
     "data": {
      "text/html": [
       "<div>\n",
       "<style scoped>\n",
       "    .dataframe tbody tr th:only-of-type {\n",
       "        vertical-align: middle;\n",
       "    }\n",
       "\n",
       "    .dataframe tbody tr th {\n",
       "        vertical-align: top;\n",
       "    }\n",
       "\n",
       "    .dataframe thead th {\n",
       "        text-align: right;\n",
       "    }\n",
       "</style>\n",
       "<table border=\"1\" class=\"dataframe\">\n",
       "  <thead>\n",
       "    <tr style=\"text-align: right;\">\n",
       "      <th></th>\n",
       "      <th>Product_Code</th>\n",
       "      <th>Warehouse</th>\n",
       "      <th>Product_Category</th>\n",
       "      <th>Date</th>\n",
       "      <th>Order_Demand</th>\n",
       "    </tr>\n",
       "  </thead>\n",
       "  <tbody>\n",
       "    <tr>\n",
       "      <th>count</th>\n",
       "      <td>1048575</td>\n",
       "      <td>1048575</td>\n",
       "      <td>1048575</td>\n",
       "      <td>1037336</td>\n",
       "      <td>1048575</td>\n",
       "    </tr>\n",
       "    <tr>\n",
       "      <th>unique</th>\n",
       "      <td>2160</td>\n",
       "      <td>4</td>\n",
       "      <td>33</td>\n",
       "      <td>1729</td>\n",
       "      <td>3828</td>\n",
       "    </tr>\n",
       "    <tr>\n",
       "      <th>top</th>\n",
       "      <td>Product_1359</td>\n",
       "      <td>Whse_J</td>\n",
       "      <td>Category_019</td>\n",
       "      <td>2013/9/27</td>\n",
       "      <td>1000</td>\n",
       "    </tr>\n",
       "    <tr>\n",
       "      <th>freq</th>\n",
       "      <td>16936</td>\n",
       "      <td>764447</td>\n",
       "      <td>481099</td>\n",
       "      <td>2075</td>\n",
       "      <td>112682</td>\n",
       "    </tr>\n",
       "  </tbody>\n",
       "</table>\n",
       "</div>"
      ],
      "text/plain": [
       "        Product_Code Warehouse Product_Category       Date Order_Demand\n",
       "count        1048575   1048575          1048575    1037336      1048575\n",
       "unique          2160         4               33       1729         3828\n",
       "top     Product_1359    Whse_J     Category_019  2013/9/27        1000 \n",
       "freq           16936    764447           481099       2075       112682"
      ]
     },
     "execution_count": 4,
     "metadata": {},
     "output_type": "execute_result"
    }
   ],
   "source": [
    "#Analisando algumas informações a respeito do DataFrame\n",
    "df.describe()"
   ]
  },
  {
   "cell_type": "code",
   "execution_count": 5,
   "id": "89cf35da",
   "metadata": {},
   "outputs": [
    {
     "data": {
      "text/plain": [
       "Product_Code            0\n",
       "Warehouse               0\n",
       "Product_Category        0\n",
       "Date                11239\n",
       "Order_Demand            0\n",
       "dtype: int64"
      ]
     },
     "execution_count": 5,
     "metadata": {},
     "output_type": "execute_result"
    }
   ],
   "source": [
    "#Verificando a existência de dados não preenchidos no DataFrame\n",
    "df.isnull().sum()"
   ]
  },
  {
   "cell_type": "code",
   "execution_count": 6,
   "id": "6f89b78f",
   "metadata": {},
   "outputs": [
    {
     "name": "stdout",
     "output_type": "stream",
     "text": [
      "Os dados faltantes equivalem à 1.072% do total dos dados do DataFrame\n"
     ]
    }
   ],
   "source": [
    "#Verificando a relação de dados faltantes com o total de dados\n",
    "x = (11239/1048575)*100\n",
    "print(f'Os dados faltantes equivalem à {round(x,3)}% do total dos dados do DataFrame')"
   ]
  },
  {
   "cell_type": "code",
   "execution_count": 7,
   "id": "31fddb00",
   "metadata": {},
   "outputs": [
    {
     "data": {
      "text/plain": [
       "Product_Code        0\n",
       "Warehouse           0\n",
       "Product_Category    0\n",
       "Date                0\n",
       "Order_Demand        0\n",
       "dtype: int64"
      ]
     },
     "execution_count": 7,
     "metadata": {},
     "output_type": "execute_result"
    }
   ],
   "source": [
    "#Os dados não preenchidos beiram 1% do total dos dados, sendo assim, resolvi dropar os dados. \n",
    "#Outro motivo para dropar os dados é que não era possível estimar os dados faltantes.\n",
    "\n",
    "#Dropando as linhas dos dados faltantes e atualizando o DF.\n",
    "df.dropna(inplace=True)\n",
    "df.isnull().sum()"
   ]
  },
  {
   "cell_type": "code",
   "execution_count": 8,
   "id": "289a5e96",
   "metadata": {},
   "outputs": [],
   "source": [
    "#Não está no notebook, mas alguns números possuíam parenteses, o código abaixo é para retirar esses parenteses (servirá lá na frente)\n",
    "df['Order_Demand']=df['Order_Demand'].str.replace('(','',regex=True)\n",
    "df['Order_Demand']=df['Order_Demand'].str.replace(')','',regex=True)"
   ]
  },
  {
   "cell_type": "code",
   "execution_count": 9,
   "id": "e3c5ba22",
   "metadata": {},
   "outputs": [],
   "source": [
    "#O código abaixo separa os valores das datas, e após isso, cada valor é atribuído a uma nova coluna no DataFrame\n",
    "df[['Year','Month','Day']] = df['Date'].str.split(\"/\", expand = True)\n",
    "df[['Month']] = df[['Month']].astype(int)\n",
    "df[['Year']] = df[['Year']].astype(int)\n",
    "#df[['Day']] = df[['Day']].astype(int)\n",
    "\n",
    "#A retirada dos parenteses dos números foi necessário na hora de converter a coluna \"Order_Demand\" de str para int\n",
    "df[['Order_Demand']] = df[['Order_Demand']].astype(int)\n"
   ]
  },
  {
   "cell_type": "code",
   "execution_count": 10,
   "id": "ad8a356a",
   "metadata": {},
   "outputs": [
    {
     "data": {
      "text/html": [
       "<div>\n",
       "<style scoped>\n",
       "    .dataframe tbody tr th:only-of-type {\n",
       "        vertical-align: middle;\n",
       "    }\n",
       "\n",
       "    .dataframe tbody tr th {\n",
       "        vertical-align: top;\n",
       "    }\n",
       "\n",
       "    .dataframe thead th {\n",
       "        text-align: right;\n",
       "    }\n",
       "</style>\n",
       "<table border=\"1\" class=\"dataframe\">\n",
       "  <thead>\n",
       "    <tr style=\"text-align: right;\">\n",
       "      <th></th>\n",
       "      <th>Product_Code</th>\n",
       "      <th>Warehouse</th>\n",
       "      <th>Product_Category</th>\n",
       "      <th>Date</th>\n",
       "      <th>Order_Demand</th>\n",
       "      <th>Year</th>\n",
       "      <th>Month</th>\n",
       "      <th>Day</th>\n",
       "    </tr>\n",
       "  </thead>\n",
       "  <tbody>\n",
       "    <tr>\n",
       "      <th>0</th>\n",
       "      <td>Product_0965</td>\n",
       "      <td>Whse_A</td>\n",
       "      <td>Category_006</td>\n",
       "      <td>2011/1/8</td>\n",
       "      <td>2</td>\n",
       "      <td>2011</td>\n",
       "      <td>1</td>\n",
       "      <td>8</td>\n",
       "    </tr>\n",
       "    <tr>\n",
       "      <th>1</th>\n",
       "      <td>Product_0412</td>\n",
       "      <td>Whse_S</td>\n",
       "      <td>Category_007</td>\n",
       "      <td>2011/10/20</td>\n",
       "      <td>2</td>\n",
       "      <td>2011</td>\n",
       "      <td>10</td>\n",
       "      <td>20</td>\n",
       "    </tr>\n",
       "    <tr>\n",
       "      <th>2</th>\n",
       "      <td>Product_0125</td>\n",
       "      <td>Whse_S</td>\n",
       "      <td>Category_011</td>\n",
       "      <td>2011/10/20</td>\n",
       "      <td>2</td>\n",
       "      <td>2011</td>\n",
       "      <td>10</td>\n",
       "      <td>20</td>\n",
       "    </tr>\n",
       "    <tr>\n",
       "      <th>3</th>\n",
       "      <td>Product_0642</td>\n",
       "      <td>Whse_C</td>\n",
       "      <td>Category_019</td>\n",
       "      <td>2011/10/31</td>\n",
       "      <td>3</td>\n",
       "      <td>2011</td>\n",
       "      <td>10</td>\n",
       "      <td>31</td>\n",
       "    </tr>\n",
       "    <tr>\n",
       "      <th>4</th>\n",
       "      <td>Product_2137</td>\n",
       "      <td>Whse_S</td>\n",
       "      <td>Category_009</td>\n",
       "      <td>2011/11/18</td>\n",
       "      <td>25</td>\n",
       "      <td>2011</td>\n",
       "      <td>11</td>\n",
       "      <td>18</td>\n",
       "    </tr>\n",
       "    <tr>\n",
       "      <th>...</th>\n",
       "      <td>...</td>\n",
       "      <td>...</td>\n",
       "      <td>...</td>\n",
       "      <td>...</td>\n",
       "      <td>...</td>\n",
       "      <td>...</td>\n",
       "      <td>...</td>\n",
       "      <td>...</td>\n",
       "    </tr>\n",
       "    <tr>\n",
       "      <th>1037331</th>\n",
       "      <td>Product_0689</td>\n",
       "      <td>Whse_J</td>\n",
       "      <td>Category_011</td>\n",
       "      <td>2017/1/6</td>\n",
       "      <td>200</td>\n",
       "      <td>2017</td>\n",
       "      <td>1</td>\n",
       "      <td>6</td>\n",
       "    </tr>\n",
       "    <tr>\n",
       "      <th>1037332</th>\n",
       "      <td>Product_1970</td>\n",
       "      <td>Whse_J</td>\n",
       "      <td>Category_005</td>\n",
       "      <td>2017/1/6</td>\n",
       "      <td>2000</td>\n",
       "      <td>2017</td>\n",
       "      <td>1</td>\n",
       "      <td>6</td>\n",
       "    </tr>\n",
       "    <tr>\n",
       "      <th>1037333</th>\n",
       "      <td>Product_1904</td>\n",
       "      <td>Whse_C</td>\n",
       "      <td>Category_019</td>\n",
       "      <td>2017/1/9</td>\n",
       "      <td>4000</td>\n",
       "      <td>2017</td>\n",
       "      <td>1</td>\n",
       "      <td>9</td>\n",
       "    </tr>\n",
       "    <tr>\n",
       "      <th>1037334</th>\n",
       "      <td>Product_0471</td>\n",
       "      <td>Whse_C</td>\n",
       "      <td>Category_015</td>\n",
       "      <td>2017/1/9</td>\n",
       "      <td>30</td>\n",
       "      <td>2017</td>\n",
       "      <td>1</td>\n",
       "      <td>9</td>\n",
       "    </tr>\n",
       "    <tr>\n",
       "      <th>1037335</th>\n",
       "      <td>Product_0250</td>\n",
       "      <td>Whse_C</td>\n",
       "      <td>Category_007</td>\n",
       "      <td>2017/1/9</td>\n",
       "      <td>148</td>\n",
       "      <td>2017</td>\n",
       "      <td>1</td>\n",
       "      <td>9</td>\n",
       "    </tr>\n",
       "  </tbody>\n",
       "</table>\n",
       "<p>1037336 rows × 8 columns</p>\n",
       "</div>"
      ],
      "text/plain": [
       "         Product_Code Warehouse Product_Category        Date  Order_Demand  \\\n",
       "0        Product_0965    Whse_A     Category_006    2011/1/8             2   \n",
       "1        Product_0412    Whse_S     Category_007  2011/10/20             2   \n",
       "2        Product_0125    Whse_S     Category_011  2011/10/20             2   \n",
       "3        Product_0642    Whse_C     Category_019  2011/10/31             3   \n",
       "4        Product_2137    Whse_S     Category_009  2011/11/18            25   \n",
       "...               ...       ...              ...         ...           ...   \n",
       "1037331  Product_0689    Whse_J     Category_011    2017/1/6           200   \n",
       "1037332  Product_1970    Whse_J     Category_005    2017/1/6          2000   \n",
       "1037333  Product_1904    Whse_C     Category_019    2017/1/9          4000   \n",
       "1037334  Product_0471    Whse_C     Category_015    2017/1/9            30   \n",
       "1037335  Product_0250    Whse_C     Category_007    2017/1/9           148   \n",
       "\n",
       "         Year  Month Day  \n",
       "0        2011      1   8  \n",
       "1        2011     10  20  \n",
       "2        2011     10  20  \n",
       "3        2011     10  31  \n",
       "4        2011     11  18  \n",
       "...       ...    ...  ..  \n",
       "1037331  2017      1   6  \n",
       "1037332  2017      1   6  \n",
       "1037333  2017      1   9  \n",
       "1037334  2017      1   9  \n",
       "1037335  2017      1   9  \n",
       "\n",
       "[1037336 rows x 8 columns]"
      ]
     },
     "execution_count": 10,
     "metadata": {},
     "output_type": "execute_result"
    }
   ],
   "source": [
    "#Ordenando o DataFrame pela Data\n",
    "df.sort_values('Date', inplace=True)\n",
    "df.reset_index(inplace=True)\n",
    "df.drop('index',axis=1,inplace=True)\n",
    "df"
   ]
  },
  {
   "cell_type": "code",
   "execution_count": 11,
   "id": "f417c15a",
   "metadata": {},
   "outputs": [],
   "source": [
    "###df['Date'] =pd.to_datetime(df['Date'])"
   ]
  },
  {
   "cell_type": "code",
   "execution_count": 12,
   "id": "b939fe78",
   "metadata": {},
   "outputs": [
    {
     "data": {
      "text/plain": [
       "Warehouse\n",
       "Whse_J       764447\n",
       "Whse_A       142335\n",
       "Whse_S        88200\n",
       "Whse_C        42354\n",
       "dtype: int64"
      ]
     },
     "execution_count": 12,
     "metadata": {},
     "output_type": "execute_result"
    }
   ],
   "source": [
    "#Verificando a quantidade de registros de cada armazens\n",
    "df[['Warehouse']].value_counts()"
   ]
  },
  {
   "cell_type": "code",
   "execution_count": 13,
   "id": "fabda001",
   "metadata": {},
   "outputs": [],
   "source": [
    "#df.set_index('Date',inplace=True)"
   ]
  },
  {
   "cell_type": "code",
   "execution_count": 14,
   "id": "c669b25b",
   "metadata": {},
   "outputs": [
    {
     "data": {
      "text/plain": [
       "\"df_whseA_2012 = df[(df['Warehouse']=='Whse_A') & (df['Year']==2012)]\\ndf_whseA_2013 = df[(df['Warehouse']=='Whse_A') & (df['Year']==2013)]\\ndf_whseA_2014 = df[(df['Warehouse']=='Whse_A') & (df['Year']==2014)]\\ndf_whseA_2015 = df[(df['Warehouse']=='Whse_A') & (df['Year']==2015)]\\ndf_whseA_2016 = df[(df['Warehouse']=='Whse_A') & (df['Year']==2016)]\""
      ]
     },
     "execution_count": 14,
     "metadata": {},
     "output_type": "execute_result"
    }
   ],
   "source": [
    "#Um DataFrame criado apena com as informações do armazém A, caso precisemos mais a frente.\n",
    "df_whseA = df[(df['Warehouse']=='Whse_A')]\n",
    "\n",
    "\n",
    "'''df_whseA_2012 = df[(df['Warehouse']=='Whse_A') & (df['Year']==2012)]\n",
    "df_whseA_2013 = df[(df['Warehouse']=='Whse_A') & (df['Year']==2013)]\n",
    "df_whseA_2014 = df[(df['Warehouse']=='Whse_A') & (df['Year']==2014)]\n",
    "df_whseA_2015 = df[(df['Warehouse']=='Whse_A') & (df['Year']==2015)]\n",
    "df_whseA_2016 = df[(df['Warehouse']=='Whse_A') & (df['Year']==2016)]'''"
   ]
  },
  {
   "cell_type": "code",
   "execution_count": 15,
   "id": "bf472f5b",
   "metadata": {},
   "outputs": [
    {
     "data": {
      "text/plain": [
       "\"df_whseC_2012 = df[(df['Warehouse']=='Whse_C') & (df['Year']==2012)]\\ndf_whseC_2013 = df[(df['Warehouse']=='Whse_C') & (df['Year']==2013)]\\ndf_whseC_2014 = df[(df['Warehouse']=='Whse_C') & (df['Year']==2014)]\\ndf_whseC_2015 = df[(df['Warehouse']=='Whse_C') & (df['Year']==2015)]\\ndf_whseC_2016 = df[(df['Warehouse']=='Whse_C') & (df['Year']==2016)]\""
      ]
     },
     "execution_count": 15,
     "metadata": {},
     "output_type": "execute_result"
    }
   ],
   "source": [
    "#Um DataFrame criado apena com as informações do armazém C, caso precisemos mais a frente.\n",
    "df_whseC = df[(df['Warehouse']=='Whse_C')]\n",
    "\n",
    "\n",
    "'''df_whseC_2012 = df[(df['Warehouse']=='Whse_C') & (df['Year']==2012)]\n",
    "df_whseC_2013 = df[(df['Warehouse']=='Whse_C') & (df['Year']==2013)]\n",
    "df_whseC_2014 = df[(df['Warehouse']=='Whse_C') & (df['Year']==2014)]\n",
    "df_whseC_2015 = df[(df['Warehouse']=='Whse_C') & (df['Year']==2015)]\n",
    "df_whseC_2016 = df[(df['Warehouse']=='Whse_C') & (df['Year']==2016)]'''"
   ]
  },
  {
   "cell_type": "code",
   "execution_count": 16,
   "id": "cf23c3ab",
   "metadata": {},
   "outputs": [
    {
     "data": {
      "text/plain": [
       "\"df_whseJ_2012 = df[(df['Warehouse']=='Whse_J') & (df['Year']==2012)]\\ndf_whseJ_2013 = df[(df['Warehouse']=='Whse_J') & (df['Year']==2013)]\\ndf_whseJ_2014 = df[(df['Warehouse']=='Whse_J') & (df['Year']==2014)]\\ndf_whseJ_2015 = df[(df['Warehouse']=='Whse_J') & (df['Year']==2015)]\\ndf_whseJ_2016 = df[(df['Warehouse']=='Whse_J') & (df['Year']==2016)]\""
      ]
     },
     "execution_count": 16,
     "metadata": {},
     "output_type": "execute_result"
    }
   ],
   "source": [
    "#Um DataFrame criado apena com as informações do armazém J, caso precisemos mais a frente.\n",
    "df_whseJ = df[(df['Warehouse']=='Whse_J')]\n",
    "\n",
    "\n",
    "'''df_whseJ_2012 = df[(df['Warehouse']=='Whse_J') & (df['Year']==2012)]\n",
    "df_whseJ_2013 = df[(df['Warehouse']=='Whse_J') & (df['Year']==2013)]\n",
    "df_whseJ_2014 = df[(df['Warehouse']=='Whse_J') & (df['Year']==2014)]\n",
    "df_whseJ_2015 = df[(df['Warehouse']=='Whse_J') & (df['Year']==2015)]\n",
    "df_whseJ_2016 = df[(df['Warehouse']=='Whse_J') & (df['Year']==2016)]'''"
   ]
  },
  {
   "cell_type": "code",
   "execution_count": 17,
   "id": "07a4f1ce",
   "metadata": {},
   "outputs": [
    {
     "data": {
      "text/plain": [
       "\"df_whseS_2012 = df[(df['Warehouse']=='Whse_S') & (df['Year']==2012)]\\ndf_whseS_2013 = df[(df['Warehouse']=='Whse_S') & (df['Year']==2013)]\\ndf_whseS_2014 = df[(df['Warehouse']=='Whse_S') & (df['Year']==2014)]\\ndf_whseS_2015 = df[(df['Warehouse']=='Whse_S') & (df['Year']==2015)]\\ndf_whseS_2016 = df[(df['Warehouse']=='Whse_S') & (df['Year']==2016)]\""
      ]
     },
     "execution_count": 17,
     "metadata": {},
     "output_type": "execute_result"
    }
   ],
   "source": [
    "#Um DataFrame criado apena com as informações do armazém S, caso precisemos mais a frente.\n",
    "df_whseS = df[(df['Warehouse']=='Whse_S')]\n",
    "\n",
    "\n",
    "'''df_whseS_2012 = df[(df['Warehouse']=='Whse_S') & (df['Year']==2012)]\n",
    "df_whseS_2013 = df[(df['Warehouse']=='Whse_S') & (df['Year']==2013)]\n",
    "df_whseS_2014 = df[(df['Warehouse']=='Whse_S') & (df['Year']==2014)]\n",
    "df_whseS_2015 = df[(df['Warehouse']=='Whse_S') & (df['Year']==2015)]\n",
    "df_whseS_2016 = df[(df['Warehouse']=='Whse_S') & (df['Year']==2016)]'''"
   ]
  },
  {
   "cell_type": "code",
   "execution_count": 18,
   "id": "76b6def9",
   "metadata": {},
   "outputs": [
    {
     "name": "stdout",
     "output_type": "stream",
     "text": [
      "Product_Code        2160\n",
      "Warehouse              4\n",
      "Product_Category      33\n",
      "Date                1729\n",
      "Order_Demand        3309\n",
      "Year                   7\n",
      "Month                 12\n",
      "Day                   31\n",
      "dtype: int64\n",
      "\n",
      "Total of Order Demands: 5134173931\n"
     ]
    }
   ],
   "source": [
    "#Analisando os dados do DataFrame original\n",
    "xdf = df['Order_Demand'].sum()\n",
    "print(df.nunique())\n",
    "print(f'\\nTotal of Order Demands: {xdf}')"
   ]
  },
  {
   "cell_type": "code",
   "execution_count": 19,
   "id": "4ee7f4a4",
   "metadata": {},
   "outputs": [
    {
     "name": "stdout",
     "output_type": "stream",
     "text": [
      "Product_Code         427\n",
      "Warehouse              1\n",
      "Product_Category      25\n",
      "Date                1577\n",
      "Order_Demand        1270\n",
      "Year                   6\n",
      "Month                 12\n",
      "Day                   31\n",
      "dtype: int64\n",
      "\n",
      "Total of Order Demands: 147877431\n"
     ]
    }
   ],
   "source": [
    "#Analisando os dados do DataFrame do armazém A\n",
    "xa = df_whseA['Order_Demand'].sum()\n",
    "print(df_whseA.nunique())\n",
    "print(f'\\nTotal of Order Demands: {xa}')"
   ]
  },
  {
   "cell_type": "code",
   "execution_count": 20,
   "id": "afdbc0e2",
   "metadata": {},
   "outputs": [
    {
     "name": "stdout",
     "output_type": "stream",
     "text": [
      "Product_Code         244\n",
      "Warehouse              1\n",
      "Product_Category      16\n",
      "Date                1345\n",
      "Order_Demand        1797\n",
      "Year                   7\n",
      "Month                 12\n",
      "Day                   31\n",
      "dtype: int64\n",
      "\n",
      "Total of Order Demands: 585071404\n"
     ]
    }
   ],
   "source": [
    "#Analisando os dados do DataFrame do armazém C\n",
    "xc = df_whseC['Order_Demand'].sum()\n",
    "print(df_whseC.nunique())\n",
    "print(f'\\nTotal of Order Demands: {xc}')"
   ]
  },
  {
   "cell_type": "code",
   "execution_count": 21,
   "id": "98f066bc",
   "metadata": {},
   "outputs": [
    {
     "name": "stdout",
     "output_type": "stream",
     "text": [
      "Product_Code        1625\n",
      "Warehouse              1\n",
      "Product_Category      25\n",
      "Date                1414\n",
      "Order_Demand        1653\n",
      "Year                   7\n",
      "Month                 12\n",
      "Day                   31\n",
      "dtype: int64\n",
      "\n",
      "Total of Order Demands: 3363200396\n"
     ]
    }
   ],
   "source": [
    "#Analisando os dados do DataFrame do armazém J\n",
    "xj = df_whseJ['Order_Demand'].sum()\n",
    "print(df_whseJ.nunique())\n",
    "print(f'\\nTotal of Order Demands: {xj}')"
   ]
  },
  {
   "cell_type": "code",
   "execution_count": 22,
   "id": "6ba76ad8",
   "metadata": {},
   "outputs": [
    {
     "name": "stdout",
     "output_type": "stream",
     "text": [
      "Product_Code         553\n",
      "Warehouse              1\n",
      "Product_Category      28\n",
      "Date                1576\n",
      "Order_Demand        2010\n",
      "Year                   7\n",
      "Month                 12\n",
      "Day                   31\n",
      "dtype: int64\n",
      "\n",
      "Total of Order Demands: 1038024700\n"
     ]
    }
   ],
   "source": [
    "#Analisando os dados do DataFrame do armazém S\n",
    "xs = df_whseS['Order_Demand'].sum()\n",
    "print(df_whseS.nunique())\n",
    "print(f'\\nTotal of Order Demands: {xs}')"
   ]
  },
  {
   "cell_type": "code",
   "execution_count": 23,
   "id": "f7ad5eb2",
   "metadata": {},
   "outputs": [
    {
     "data": {
      "text/html": [
       "<div>\n",
       "<style scoped>\n",
       "    .dataframe tbody tr th:only-of-type {\n",
       "        vertical-align: middle;\n",
       "    }\n",
       "\n",
       "    .dataframe tbody tr th {\n",
       "        vertical-align: top;\n",
       "    }\n",
       "\n",
       "    .dataframe thead th {\n",
       "        text-align: right;\n",
       "    }\n",
       "</style>\n",
       "<table border=\"1\" class=\"dataframe\">\n",
       "  <thead>\n",
       "    <tr style=\"text-align: right;\">\n",
       "      <th></th>\n",
       "      <th></th>\n",
       "      <th></th>\n",
       "      <th>Order_Demand</th>\n",
       "    </tr>\n",
       "    <tr>\n",
       "      <th>Product_Code</th>\n",
       "      <th>Year</th>\n",
       "      <th>Month</th>\n",
       "      <th></th>\n",
       "    </tr>\n",
       "  </thead>\n",
       "  <tbody>\n",
       "    <tr>\n",
       "      <th rowspan=\"5\" valign=\"top\">Product_0001</th>\n",
       "      <th>2011</th>\n",
       "      <th>12</th>\n",
       "      <td>300</td>\n",
       "    </tr>\n",
       "    <tr>\n",
       "      <th rowspan=\"4\" valign=\"top\">2012</th>\n",
       "      <th>1</th>\n",
       "      <td>3300</td>\n",
       "    </tr>\n",
       "    <tr>\n",
       "      <th>2</th>\n",
       "      <td>2600</td>\n",
       "    </tr>\n",
       "    <tr>\n",
       "      <th>3</th>\n",
       "      <td>3100</td>\n",
       "    </tr>\n",
       "    <tr>\n",
       "      <th>4</th>\n",
       "      <td>1800</td>\n",
       "    </tr>\n",
       "    <tr>\n",
       "      <th>...</th>\n",
       "      <th>...</th>\n",
       "      <th>...</th>\n",
       "      <td>...</td>\n",
       "    </tr>\n",
       "    <tr>\n",
       "      <th rowspan=\"5\" valign=\"top\">Product_2172</th>\n",
       "      <th rowspan=\"5\" valign=\"top\">2016</th>\n",
       "      <th>7</th>\n",
       "      <td>1000</td>\n",
       "    </tr>\n",
       "    <tr>\n",
       "      <th>8</th>\n",
       "      <td>900</td>\n",
       "    </tr>\n",
       "    <tr>\n",
       "      <th>9</th>\n",
       "      <td>1200</td>\n",
       "    </tr>\n",
       "    <tr>\n",
       "      <th>10</th>\n",
       "      <td>900</td>\n",
       "    </tr>\n",
       "    <tr>\n",
       "      <th>11</th>\n",
       "      <td>900</td>\n",
       "    </tr>\n",
       "  </tbody>\n",
       "</table>\n",
       "<p>81768 rows × 1 columns</p>\n",
       "</div>"
      ],
      "text/plain": [
       "                         Order_Demand\n",
       "Product_Code Year Month              \n",
       "Product_0001 2011 12              300\n",
       "             2012 1              3300\n",
       "                  2              2600\n",
       "                  3              3100\n",
       "                  4              1800\n",
       "...                               ...\n",
       "Product_2172 2016 7              1000\n",
       "                  8               900\n",
       "                  9              1200\n",
       "                  10              900\n",
       "                  11              900\n",
       "\n",
       "[81768 rows x 1 columns]"
      ]
     },
     "execution_count": 23,
     "metadata": {},
     "output_type": "execute_result"
    }
   ],
   "source": [
    "#Talvez a saída seja somar a demanda por mês de cada produto?????\n",
    "dfJ_filter = df_whseJ.groupby(by=['Product_Code','Year','Month']).sum()\n",
    "dfJ_filter"
   ]
  },
  {
   "cell_type": "code",
   "execution_count": 24,
   "id": "de961f84",
   "metadata": {},
   "outputs": [
    {
     "data": {
      "text/plain": [
       "<AxesSubplot:xlabel='Year,Month'>"
      ]
     },
     "execution_count": 24,
     "metadata": {},
     "output_type": "execute_result"
    },
    {
     "data": {
      "image/png": "[encoded data removed]",
      "text/plain": [
       "<Figure size 432x288 with 1 Axes>"
      ]
     },
     "metadata": {
      "needs_background": "light"
     },
     "output_type": "display_data"
    }
   ],
   "source": [
    "#Plotando o histórico mensal do produto 0001\n",
    "dfJ_filter.loc['Product_0001'].plot()"
   ]
  },
  {
   "cell_type": "code",
   "execution_count": 25,
   "id": "c8bc7863",
   "metadata": {},
   "outputs": [
    {
     "data": {
      "text/plain": [
       "<AxesSubplot:xlabel='Year,Month'>"
      ]
     },
     "execution_count": 25,
     "metadata": {},
     "output_type": "execute_result"
    },
    {
     "data": {
      "image/png": "[encoded data removed]",
      "text/plain": [
       "<Figure size 432x288 with 1 Axes>"
      ]
     },
     "metadata": {
      "needs_background": "light"
     },
     "output_type": "display_data"
    }
   ],
   "source": [
    "#Plotando o histórico mensal do produto 0009\n",
    "dfJ_filter.loc['Product_0009'].plot()"
   ]
  },
  {
   "cell_type": "code",
   "execution_count": 26,
   "id": "489de122",
   "metadata": {},
   "outputs": [
    {
     "data": {
      "text/plain": [
       "<AxesSubplot:xlabel='Year,Month'>"
      ]
     },
     "execution_count": 26,
     "metadata": {},
     "output_type": "execute_result"
    },
    {
     "data": {
      "image/png": "[encoded data removed]",
      "text/plain": [
       "<Figure size 432x288 with 1 Axes>"
      ]
     },
     "metadata": {
      "needs_background": "light"
     },
     "output_type": "display_data"
    }
   ],
   "source": [
    "#Plotando o histórico mensal do produto 1001\n",
    "dfJ_filter.loc['Product_1001'].plot()"
   ]
  }
 ],
 "metadata": {
  "kernelspec": {
   "display_name": "Python 3",
   "language": "python",
   "name": "python3"
  },
  "language_info": {
   "codemirror_mode": {
    "name": "ipython",
    "version": 3
   },
   "file_extension": ".py",
   "mimetype": "text/x-python",
   "name": "python",
   "nbconvert_exporter": "python",
   "pygments_lexer": "ipython3",
   "version": "3.8.8"
  }
 },
 "nbformat": 4,
 "nbformat_minor": 5
}
