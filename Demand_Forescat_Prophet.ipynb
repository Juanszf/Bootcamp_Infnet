{
 "cells": [
  {
   "cell_type": "code",
   "execution_count": null,
   "id": "e1b835a2",
   "metadata": {},
   "outputs": [],
   "source": [
    "!pip install fbprophet\n",
    "import pandas as pd\n",
    "import numpy as np\n",
    "import matplotlib.pyplot as plt\n",
    "import seaborn as sns\n",
    "from sklearn.model_selection import train_test_split\n",
    "from fbprophet import Prophet \n",
    "from fbprophet.plot import add_changepoints_to_plot"
   ]
  },
  {
   "cell_type": "code",
   "execution_count": null,
   "id": "32e1fcac",
   "metadata": {},
   "outputs": [],
   "source": [
    "#Lendo e transformando o arquivo CSV em um objeto pandas DataFrame nomeado de \"df\"\n",
    "dff = pd.read_csv('C:/Users/juan_/Documents/GitHub/Datasets/demand.csv')"
   ]
  },
  {
   "cell_type": "code",
   "execution_count": null,
   "id": "186f6ea5",
   "metadata": {},
   "outputs": [],
   "source": [
    "#Verificando o head e tail do CSV\n",
    "dff"
   ]
  },
  {
   "cell_type": "code",
   "execution_count": null,
   "id": "3eab17fa",
   "metadata": {},
   "outputs": [],
   "source": [
    "#Analisando algumas informações a respeito do DataFrame\n",
    "dff.describe()"
   ]
  },
  {
   "cell_type": "code",
   "execution_count": null,
   "id": "52fdd4b2",
   "metadata": {},
   "outputs": [],
   "source": [
    "#Verificando a existência de dados não preenchidos no DataFrame\n",
    "dff.isnull().sum()"
   ]
  },
  {
   "cell_type": "code",
   "execution_count": null,
   "id": "c0496097",
   "metadata": {},
   "outputs": [],
   "source": [
    "#Verificando a relação de dados faltantes com o total de dados\n",
    "x = (11239/1048575)*100\n",
    "print(f'Os dados faltantes equivalem à {round(x,3)}% do total dos dados do DataFrame')"
   ]
  },
  {
   "cell_type": "code",
   "execution_count": null,
   "id": "51e09036",
   "metadata": {},
   "outputs": [],
   "source": [
    "#Os dados não preenchidos beiram 1% do total dos dados, sendo assim, resolvi dropar os dados. \n",
    "#Outro motivo para dropar os dados é que não era possível estimar os dados faltantes.\n",
    "\n",
    "#Dropando as linhas dos dados faltantes e atualizando o DF.\n",
    "dff.dropna(inplace=True)\n",
    "dff.isnull().sum()"
   ]
  },
  {
   "cell_type": "code",
   "execution_count": null,
   "id": "422d8d46",
   "metadata": {},
   "outputs": [],
   "source": [
    "#Não está no notebook, mas alguns números possuíam parenteses, o código abaixo é para retirar esses parenteses (servirá lá na frente)\n",
    "dff['Order_Demand']=dff['Order_Demand'].str.replace('(','',regex=True)\n",
    "dff['Order_Demand']=dff['Order_Demand'].str.replace(')','',regex=True)"
   ]
  },
  {
   "cell_type": "code",
   "execution_count": null,
   "id": "3f9e9f80",
   "metadata": {},
   "outputs": [],
   "source": [
    "#O código abaixo separa os valores das datas, e após isso, cada valor é atribuído a uma nova coluna no DataFrame\n",
    "dff[['Year','Month','Day']] = dff['Date'].str.split(\"/\", expand = True)\n",
    "dff[['Month']] = dff[['Month']].astype(int)\n",
    "dff[['Year']] = dff[['Year']].astype(int)\n",
    "#df[['Day']] = df[['Day']].astype(int)\n",
    "\n",
    "#A retirada dos parenteses dos números foi necessário na hora de converter a coluna \"Order_Demand\" de str para int\n",
    "dff[['Order_Demand']] = dff[['Order_Demand']].astype(int)"
   ]
  },
  {
   "cell_type": "code",
   "execution_count": null,
   "id": "83afaa71",
   "metadata": {},
   "outputs": [],
   "source": [
    "#Ordenando o DataFrame pela Data\n",
    "dff.sort_values('Date', inplace=True)\n",
    "dff.reset_index(inplace=True)\n",
    "dff.drop('index',axis=1,inplace=True)\n",
    "dff"
   ]
  },
  {
   "cell_type": "code",
   "execution_count": null,
   "id": "30a79111",
   "metadata": {},
   "outputs": [],
   "source": [
    "#Verificando a quantidade de registros de cada armazens\n",
    "dff[['Warehouse']].value_counts()"
   ]
  },
  {
   "cell_type": "code",
   "execution_count": null,
   "id": "e2900752",
   "metadata": {},
   "outputs": [],
   "source": [
    "#Analisando os dados do DataFrame original\n",
    "xdf = dff['Order_Demand'].sum()\n",
    "print(dff.nunique())\n",
    "print(f'\\nTotal of Order Demands: {xdf}')"
   ]
  },
  {
   "cell_type": "code",
   "execution_count": null,
   "id": "010743aa",
   "metadata": {},
   "outputs": [],
   "source": [
    "df_prod = dff[['Product_Code','Order_Demand','Date']]\n",
    "df_prod"
   ]
  },
  {
   "cell_type": "code",
   "execution_count": null,
   "id": "e031c2c3",
   "metadata": {},
   "outputs": [],
   "source": [
    "df = dff[['Date','Order_Demand']]"
   ]
  },
  {
   "cell_type": "code",
   "execution_count": null,
   "id": "db00b8d2",
   "metadata": {},
   "outputs": [],
   "source": [
    "df['Date'] = pd.to_datetime(df['Date'])"
   ]
  },
  {
   "cell_type": "code",
   "execution_count": null,
   "id": "adb4d3fc",
   "metadata": {},
   "outputs": [],
   "source": [
    "df"
   ]
  },
  {
   "cell_type": "code",
   "execution_count": null,
   "id": "3bb380bb",
   "metadata": {},
   "outputs": [],
   "source": []
  },
  {
   "cell_type": "code",
   "execution_count": null,
   "id": "f6173c59",
   "metadata": {},
   "outputs": [],
   "source": []
  },
  {
   "cell_type": "code",
   "execution_count": null,
   "id": "5488a6b3",
   "metadata": {},
   "outputs": [],
   "source": []
  },
  {
   "cell_type": "code",
   "execution_count": null,
   "id": "22d9d9d1",
   "metadata": {},
   "outputs": [],
   "source": []
  },
  {
   "cell_type": "code",
   "execution_count": null,
   "id": "b47d2229",
   "metadata": {},
   "outputs": [],
   "source": []
  },
  {
   "cell_type": "code",
   "execution_count": null,
   "id": "7ca124ae",
   "metadata": {},
   "outputs": [],
   "source": []
  },
  {
   "cell_type": "code",
   "execution_count": null,
   "id": "cf97ce8b",
   "metadata": {},
   "outputs": [],
   "source": []
  },
  {
   "cell_type": "code",
   "execution_count": null,
   "id": "2da021d4",
   "metadata": {},
   "outputs": [],
   "source": []
  },
  {
   "cell_type": "code",
   "execution_count": null,
   "id": "7bcbf458",
   "metadata": {},
   "outputs": [],
   "source": []
  }
 ],
 "metadata": {
  "kernelspec": {
   "display_name": "Python 3",
   "language": "python",
   "name": "python3"
  },
  "language_info": {
   "codemirror_mode": {
    "name": "ipython",
    "version": 3
   },
   "file_extension": ".py",
   "mimetype": "text/x-python",
   "name": "python",
   "nbconvert_exporter": "python",
   "pygments_lexer": "ipython3",
   "version": "3.8.8"
  }
 },
 "nbformat": 4,
 "nbformat_minor": 5
}
