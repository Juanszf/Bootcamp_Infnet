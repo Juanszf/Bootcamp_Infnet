{
 "cells": [
  {
   "cell_type": "code",
   "execution_count": 1,
   "id": "e1b835a2",
   "metadata": {},
   "outputs": [],
   "source": [
    "import pandas as pd\n",
    "import numpy as np\n",
    "import matplotlib.pyplot as plt\n",
    "import seaborn as sns\n",
    "from sklearn.model_selection import train_test_split\n",
    "from fbprophet import Prophet \n",
    "from fbprophet.plot import add_changepoints_to_plot\n",
    "from fbprophet.diagnostics import cross_validation\n",
    "import itertools\n",
    "from fbprophet.diagnostics import performance_metrics\n",
    "from statsmodels.tsa.arima_model import ARIMA\n",
    "import warnings\n",
    "warnings.filterwarnings(\"ignore\")\n",
    "from pandas.plotting import autocorrelation_plot\n",
    "from matplotlib import pyplot"
   ]
  },
  {
   "cell_type": "code",
   "execution_count": 2,
   "id": "32e1fcac",
   "metadata": {},
   "outputs": [],
   "source": [
    "#Lendo e transformando o arquivo CSV em um objeto pandas DataFrame nomeado de \"df\"\n",
    "dff = pd.read_csv('C:/Users/juan_/Documents/GitHub/Datasets/demand.csv')"
   ]
  },
  {
   "cell_type": "code",
   "execution_count": 3,
   "id": "186f6ea5",
   "metadata": {},
   "outputs": [
    {
     "data": {
      "text/html": [
       "<div>\n",
       "<style scoped>\n",
       "    .dataframe tbody tr th:only-of-type {\n",
       "        vertical-align: middle;\n",
       "    }\n",
       "\n",
       "    .dataframe tbody tr th {\n",
       "        vertical-align: top;\n",
       "    }\n",
       "\n",
       "    .dataframe thead th {\n",
       "        text-align: right;\n",
       "    }\n",
       "</style>\n",
       "<table border=\"1\" class=\"dataframe\">\n",
       "  <thead>\n",
       "    <tr style=\"text-align: right;\">\n",
       "      <th></th>\n",
       "      <th>Product_Code</th>\n",
       "      <th>Warehouse</th>\n",
       "      <th>Product_Category</th>\n",
       "      <th>Date</th>\n",
       "      <th>Order_Demand</th>\n",
       "    </tr>\n",
       "  </thead>\n",
       "  <tbody>\n",
       "    <tr>\n",
       "      <th>0</th>\n",
       "      <td>Product_0993</td>\n",
       "      <td>Whse_J</td>\n",
       "      <td>Category_028</td>\n",
       "      <td>2012/7/27</td>\n",
       "      <td>100</td>\n",
       "    </tr>\n",
       "    <tr>\n",
       "      <th>1</th>\n",
       "      <td>Product_0979</td>\n",
       "      <td>Whse_J</td>\n",
       "      <td>Category_028</td>\n",
       "      <td>2012/1/19</td>\n",
       "      <td>500</td>\n",
       "    </tr>\n",
       "    <tr>\n",
       "      <th>2</th>\n",
       "      <td>Product_0979</td>\n",
       "      <td>Whse_J</td>\n",
       "      <td>Category_028</td>\n",
       "      <td>2012/2/3</td>\n",
       "      <td>500</td>\n",
       "    </tr>\n",
       "    <tr>\n",
       "      <th>3</th>\n",
       "      <td>Product_0979</td>\n",
       "      <td>Whse_J</td>\n",
       "      <td>Category_028</td>\n",
       "      <td>2012/2/9</td>\n",
       "      <td>500</td>\n",
       "    </tr>\n",
       "    <tr>\n",
       "      <th>4</th>\n",
       "      <td>Product_0979</td>\n",
       "      <td>Whse_J</td>\n",
       "      <td>Category_028</td>\n",
       "      <td>2012/3/2</td>\n",
       "      <td>500</td>\n",
       "    </tr>\n",
       "    <tr>\n",
       "      <th>...</th>\n",
       "      <td>...</td>\n",
       "      <td>...</td>\n",
       "      <td>...</td>\n",
       "      <td>...</td>\n",
       "      <td>...</td>\n",
       "    </tr>\n",
       "    <tr>\n",
       "      <th>1048570</th>\n",
       "      <td>Product_1791</td>\n",
       "      <td>Whse_J</td>\n",
       "      <td>Category_006</td>\n",
       "      <td>2016/4/27</td>\n",
       "      <td>1000</td>\n",
       "    </tr>\n",
       "    <tr>\n",
       "      <th>1048571</th>\n",
       "      <td>Product_1974</td>\n",
       "      <td>Whse_J</td>\n",
       "      <td>Category_006</td>\n",
       "      <td>2016/4/27</td>\n",
       "      <td>1</td>\n",
       "    </tr>\n",
       "    <tr>\n",
       "      <th>1048572</th>\n",
       "      <td>Product_1787</td>\n",
       "      <td>Whse_J</td>\n",
       "      <td>Category_006</td>\n",
       "      <td>2016/4/28</td>\n",
       "      <td>2500</td>\n",
       "    </tr>\n",
       "    <tr>\n",
       "      <th>1048573</th>\n",
       "      <td>Product_0901</td>\n",
       "      <td>Whse_J</td>\n",
       "      <td>Category_023</td>\n",
       "      <td>2016/10/7</td>\n",
       "      <td>50</td>\n",
       "    </tr>\n",
       "    <tr>\n",
       "      <th>1048574</th>\n",
       "      <td>Product_0704</td>\n",
       "      <td>Whse_J</td>\n",
       "      <td>Category_001</td>\n",
       "      <td>2016/6/27</td>\n",
       "      <td>4</td>\n",
       "    </tr>\n",
       "  </tbody>\n",
       "</table>\n",
       "<p>1048575 rows × 5 columns</p>\n",
       "</div>"
      ],
      "text/plain": [
       "         Product_Code Warehouse Product_Category       Date Order_Demand\n",
       "0        Product_0993    Whse_J     Category_028  2012/7/27         100 \n",
       "1        Product_0979    Whse_J     Category_028  2012/1/19         500 \n",
       "2        Product_0979    Whse_J     Category_028   2012/2/3         500 \n",
       "3        Product_0979    Whse_J     Category_028   2012/2/9         500 \n",
       "4        Product_0979    Whse_J     Category_028   2012/3/2         500 \n",
       "...               ...       ...              ...        ...          ...\n",
       "1048570  Product_1791    Whse_J     Category_006  2016/4/27        1000 \n",
       "1048571  Product_1974    Whse_J     Category_006  2016/4/27           1 \n",
       "1048572  Product_1787    Whse_J     Category_006  2016/4/28        2500 \n",
       "1048573  Product_0901    Whse_J     Category_023  2016/10/7          50 \n",
       "1048574  Product_0704    Whse_J     Category_001  2016/6/27           4 \n",
       "\n",
       "[1048575 rows x 5 columns]"
      ]
     },
     "execution_count": 3,
     "metadata": {},
     "output_type": "execute_result"
    }
   ],
   "source": [
    "#Verificando o head e tail do CSV\n",
    "dff"
   ]
  },
  {
   "cell_type": "code",
   "execution_count": 4,
   "id": "3eab17fa",
   "metadata": {},
   "outputs": [
    {
     "data": {
      "text/html": [
       "<div>\n",
       "<style scoped>\n",
       "    .dataframe tbody tr th:only-of-type {\n",
       "        vertical-align: middle;\n",
       "    }\n",
       "\n",
       "    .dataframe tbody tr th {\n",
       "        vertical-align: top;\n",
       "    }\n",
       "\n",
       "    .dataframe thead th {\n",
       "        text-align: right;\n",
       "    }\n",
       "</style>\n",
       "<table border=\"1\" class=\"dataframe\">\n",
       "  <thead>\n",
       "    <tr style=\"text-align: right;\">\n",
       "      <th></th>\n",
       "      <th>Product_Code</th>\n",
       "      <th>Warehouse</th>\n",
       "      <th>Product_Category</th>\n",
       "      <th>Date</th>\n",
       "      <th>Order_Demand</th>\n",
       "    </tr>\n",
       "  </thead>\n",
       "  <tbody>\n",
       "    <tr>\n",
       "      <th>count</th>\n",
       "      <td>1048575</td>\n",
       "      <td>1048575</td>\n",
       "      <td>1048575</td>\n",
       "      <td>1037336</td>\n",
       "      <td>1048575</td>\n",
       "    </tr>\n",
       "    <tr>\n",
       "      <th>unique</th>\n",
       "      <td>2160</td>\n",
       "      <td>4</td>\n",
       "      <td>33</td>\n",
       "      <td>1729</td>\n",
       "      <td>3828</td>\n",
       "    </tr>\n",
       "    <tr>\n",
       "      <th>top</th>\n",
       "      <td>Product_1359</td>\n",
       "      <td>Whse_J</td>\n",
       "      <td>Category_019</td>\n",
       "      <td>2013/9/27</td>\n",
       "      <td>1000</td>\n",
       "    </tr>\n",
       "    <tr>\n",
       "      <th>freq</th>\n",
       "      <td>16936</td>\n",
       "      <td>764447</td>\n",
       "      <td>481099</td>\n",
       "      <td>2075</td>\n",
       "      <td>112682</td>\n",
       "    </tr>\n",
       "  </tbody>\n",
       "</table>\n",
       "</div>"
      ],
      "text/plain": [
       "        Product_Code Warehouse Product_Category       Date Order_Demand\n",
       "count        1048575   1048575          1048575    1037336      1048575\n",
       "unique          2160         4               33       1729         3828\n",
       "top     Product_1359    Whse_J     Category_019  2013/9/27        1000 \n",
       "freq           16936    764447           481099       2075       112682"
      ]
     },
     "execution_count": 4,
     "metadata": {},
     "output_type": "execute_result"
    }
   ],
   "source": [
    "#Analisando algumas informações a respeito do DataFrame\n",
    "dff.describe()"
   ]
  },
  {
   "cell_type": "code",
   "execution_count": 5,
   "id": "52fdd4b2",
   "metadata": {},
   "outputs": [
    {
     "data": {
      "text/plain": [
       "Product_Code            0\n",
       "Warehouse               0\n",
       "Product_Category        0\n",
       "Date                11239\n",
       "Order_Demand            0\n",
       "dtype: int64"
      ]
     },
     "execution_count": 5,
     "metadata": {},
     "output_type": "execute_result"
    }
   ],
   "source": [
    "#Verificando a existência de dados não preenchidos no DataFrame\n",
    "dff.isnull().sum()"
   ]
  },
  {
   "cell_type": "code",
   "execution_count": 6,
   "id": "c0496097",
   "metadata": {},
   "outputs": [
    {
     "name": "stdout",
     "output_type": "stream",
     "text": [
      "Os dados faltantes equivalem à 1.072% do total dos dados do DataFrame\n"
     ]
    }
   ],
   "source": [
    "#Verificando a relação de dados faltantes com o total de dados\n",
    "x = (11239/1048575)*100\n",
    "print(f'Os dados faltantes equivalem à {round(x,3)}% do total dos dados do DataFrame')"
   ]
  },
  {
   "cell_type": "code",
   "execution_count": 7,
   "id": "51e09036",
   "metadata": {},
   "outputs": [
    {
     "data": {
      "text/plain": [
       "Product_Code        0\n",
       "Warehouse           0\n",
       "Product_Category    0\n",
       "Date                0\n",
       "Order_Demand        0\n",
       "dtype: int64"
      ]
     },
     "execution_count": 7,
     "metadata": {},
     "output_type": "execute_result"
    }
   ],
   "source": [
    "#Os dados não preenchidos beiram 1% do total dos dados, sendo assim, resolvi dropar os dados. \n",
    "#Outro motivo para dropar os dados é que não era possível estimar os dados faltantes.\n",
    "\n",
    "#Dropando as linhas dos dados faltantes e atualizando o DF.\n",
    "dff.dropna(inplace=True)\n",
    "dff.isnull().sum()"
   ]
  },
  {
   "cell_type": "code",
   "execution_count": 8,
   "id": "422d8d46",
   "metadata": {},
   "outputs": [],
   "source": [
    "#Não está no notebook, mas alguns números possuíam parenteses, o código abaixo é para retirar esses parenteses (servirá lá na frente)\n",
    "dff['Order_Demand']=dff['Order_Demand'].str.replace('(','',regex=True)\n",
    "dff['Order_Demand']=dff['Order_Demand'].str.replace(')','',regex=True)"
   ]
  },
  {
   "cell_type": "code",
   "execution_count": 9,
   "id": "3f9e9f80",
   "metadata": {},
   "outputs": [],
   "source": [
    "#O código abaixo separa os valores das datas, e após isso, cada valor é atribuído a uma nova coluna no DataFrame\n",
    "dff[['Year','Month','Day']] = dff['Date'].str.split(\"/\", expand = True)\n",
    "dff[['Month']] = dff[['Month']].astype(int)\n",
    "dff[['Year']] = dff[['Year']].astype(int)\n",
    "#df[['Day']] = df[['Day']].astype(int)\n",
    "\n",
    "#A retirada dos parenteses dos números foi necessário na hora de converter a coluna \"Order_Demand\" de str para int\n",
    "dff[['Order_Demand']] = dff[['Order_Demand']].astype(int)"
   ]
  },
  {
   "cell_type": "code",
   "execution_count": 10,
   "id": "83afaa71",
   "metadata": {},
   "outputs": [
    {
     "data": {
      "text/html": [
       "<div>\n",
       "<style scoped>\n",
       "    .dataframe tbody tr th:only-of-type {\n",
       "        vertical-align: middle;\n",
       "    }\n",
       "\n",
       "    .dataframe tbody tr th {\n",
       "        vertical-align: top;\n",
       "    }\n",
       "\n",
       "    .dataframe thead th {\n",
       "        text-align: right;\n",
       "    }\n",
       "</style>\n",
       "<table border=\"1\" class=\"dataframe\">\n",
       "  <thead>\n",
       "    <tr style=\"text-align: right;\">\n",
       "      <th></th>\n",
       "      <th>Product_Code</th>\n",
       "      <th>Warehouse</th>\n",
       "      <th>Product_Category</th>\n",
       "      <th>Date</th>\n",
       "      <th>Order_Demand</th>\n",
       "      <th>Year</th>\n",
       "      <th>Month</th>\n",
       "      <th>Day</th>\n",
       "      <th>Test</th>\n",
       "    </tr>\n",
       "  </thead>\n",
       "  <tbody>\n",
       "    <tr>\n",
       "      <th>0</th>\n",
       "      <td>Product_0965</td>\n",
       "      <td>Whse_A</td>\n",
       "      <td>Category_006</td>\n",
       "      <td>2011/1/8</td>\n",
       "      <td>2</td>\n",
       "      <td>2011</td>\n",
       "      <td>1</td>\n",
       "      <td>8</td>\n",
       "      <td>2011-01-01</td>\n",
       "    </tr>\n",
       "    <tr>\n",
       "      <th>1</th>\n",
       "      <td>Product_0412</td>\n",
       "      <td>Whse_S</td>\n",
       "      <td>Category_007</td>\n",
       "      <td>2011/10/20</td>\n",
       "      <td>2</td>\n",
       "      <td>2011</td>\n",
       "      <td>10</td>\n",
       "      <td>20</td>\n",
       "      <td>2011-10-01</td>\n",
       "    </tr>\n",
       "    <tr>\n",
       "      <th>2</th>\n",
       "      <td>Product_0125</td>\n",
       "      <td>Whse_S</td>\n",
       "      <td>Category_011</td>\n",
       "      <td>2011/10/20</td>\n",
       "      <td>2</td>\n",
       "      <td>2011</td>\n",
       "      <td>10</td>\n",
       "      <td>20</td>\n",
       "      <td>2011-10-01</td>\n",
       "    </tr>\n",
       "    <tr>\n",
       "      <th>3</th>\n",
       "      <td>Product_0642</td>\n",
       "      <td>Whse_C</td>\n",
       "      <td>Category_019</td>\n",
       "      <td>2011/10/31</td>\n",
       "      <td>3</td>\n",
       "      <td>2011</td>\n",
       "      <td>10</td>\n",
       "      <td>31</td>\n",
       "      <td>2011-10-01</td>\n",
       "    </tr>\n",
       "    <tr>\n",
       "      <th>4</th>\n",
       "      <td>Product_2137</td>\n",
       "      <td>Whse_S</td>\n",
       "      <td>Category_009</td>\n",
       "      <td>2011/11/18</td>\n",
       "      <td>25</td>\n",
       "      <td>2011</td>\n",
       "      <td>11</td>\n",
       "      <td>18</td>\n",
       "      <td>2011-11-01</td>\n",
       "    </tr>\n",
       "    <tr>\n",
       "      <th>...</th>\n",
       "      <td>...</td>\n",
       "      <td>...</td>\n",
       "      <td>...</td>\n",
       "      <td>...</td>\n",
       "      <td>...</td>\n",
       "      <td>...</td>\n",
       "      <td>...</td>\n",
       "      <td>...</td>\n",
       "      <td>...</td>\n",
       "    </tr>\n",
       "    <tr>\n",
       "      <th>1037331</th>\n",
       "      <td>Product_0689</td>\n",
       "      <td>Whse_J</td>\n",
       "      <td>Category_011</td>\n",
       "      <td>2017/1/6</td>\n",
       "      <td>200</td>\n",
       "      <td>2017</td>\n",
       "      <td>1</td>\n",
       "      <td>6</td>\n",
       "      <td>2017-01-01</td>\n",
       "    </tr>\n",
       "    <tr>\n",
       "      <th>1037332</th>\n",
       "      <td>Product_1970</td>\n",
       "      <td>Whse_J</td>\n",
       "      <td>Category_005</td>\n",
       "      <td>2017/1/6</td>\n",
       "      <td>2000</td>\n",
       "      <td>2017</td>\n",
       "      <td>1</td>\n",
       "      <td>6</td>\n",
       "      <td>2017-01-01</td>\n",
       "    </tr>\n",
       "    <tr>\n",
       "      <th>1037333</th>\n",
       "      <td>Product_1904</td>\n",
       "      <td>Whse_C</td>\n",
       "      <td>Category_019</td>\n",
       "      <td>2017/1/9</td>\n",
       "      <td>4000</td>\n",
       "      <td>2017</td>\n",
       "      <td>1</td>\n",
       "      <td>9</td>\n",
       "      <td>2017-01-01</td>\n",
       "    </tr>\n",
       "    <tr>\n",
       "      <th>1037334</th>\n",
       "      <td>Product_0471</td>\n",
       "      <td>Whse_C</td>\n",
       "      <td>Category_015</td>\n",
       "      <td>2017/1/9</td>\n",
       "      <td>30</td>\n",
       "      <td>2017</td>\n",
       "      <td>1</td>\n",
       "      <td>9</td>\n",
       "      <td>2017-01-01</td>\n",
       "    </tr>\n",
       "    <tr>\n",
       "      <th>1037335</th>\n",
       "      <td>Product_0250</td>\n",
       "      <td>Whse_C</td>\n",
       "      <td>Category_007</td>\n",
       "      <td>2017/1/9</td>\n",
       "      <td>148</td>\n",
       "      <td>2017</td>\n",
       "      <td>1</td>\n",
       "      <td>9</td>\n",
       "      <td>2017-01-01</td>\n",
       "    </tr>\n",
       "  </tbody>\n",
       "</table>\n",
       "<p>1037336 rows × 9 columns</p>\n",
       "</div>"
      ],
      "text/plain": [
       "         Product_Code Warehouse Product_Category        Date  Order_Demand  \\\n",
       "0        Product_0965    Whse_A     Category_006    2011/1/8             2   \n",
       "1        Product_0412    Whse_S     Category_007  2011/10/20             2   \n",
       "2        Product_0125    Whse_S     Category_011  2011/10/20             2   \n",
       "3        Product_0642    Whse_C     Category_019  2011/10/31             3   \n",
       "4        Product_2137    Whse_S     Category_009  2011/11/18            25   \n",
       "...               ...       ...              ...         ...           ...   \n",
       "1037331  Product_0689    Whse_J     Category_011    2017/1/6           200   \n",
       "1037332  Product_1970    Whse_J     Category_005    2017/1/6          2000   \n",
       "1037333  Product_1904    Whse_C     Category_019    2017/1/9          4000   \n",
       "1037334  Product_0471    Whse_C     Category_015    2017/1/9            30   \n",
       "1037335  Product_0250    Whse_C     Category_007    2017/1/9           148   \n",
       "\n",
       "         Year  Month Day       Test  \n",
       "0        2011      1   8 2011-01-01  \n",
       "1        2011     10  20 2011-10-01  \n",
       "2        2011     10  20 2011-10-01  \n",
       "3        2011     10  31 2011-10-01  \n",
       "4        2011     11  18 2011-11-01  \n",
       "...       ...    ...  ..        ...  \n",
       "1037331  2017      1   6 2017-01-01  \n",
       "1037332  2017      1   6 2017-01-01  \n",
       "1037333  2017      1   9 2017-01-01  \n",
       "1037334  2017      1   9 2017-01-01  \n",
       "1037335  2017      1   9 2017-01-01  \n",
       "\n",
       "[1037336 rows x 9 columns]"
      ]
     },
     "execution_count": 10,
     "metadata": {},
     "output_type": "execute_result"
    }
   ],
   "source": [
    "#Ordenando o DataFrame pela Data\n",
    "dff['Test'] = dff['Year'].map(str) +'/'+ dff['Month'].map(str)\n",
    "dff['Test'] = pd.to_datetime(dff['Test'])\n",
    "dff.sort_values('Date', inplace=True)\n",
    "dff.reset_index(inplace=True)\n",
    "dff.drop('index',axis=1,inplace=True)\n",
    "dff"
   ]
  },
  {
   "cell_type": "code",
   "execution_count": 11,
   "id": "30a79111",
   "metadata": {},
   "outputs": [
    {
     "data": {
      "text/plain": [
       "Warehouse\n",
       "Whse_J       764447\n",
       "Whse_A       142335\n",
       "Whse_S        88200\n",
       "Whse_C        42354\n",
       "dtype: int64"
      ]
     },
     "execution_count": 11,
     "metadata": {},
     "output_type": "execute_result"
    }
   ],
   "source": [
    "#Verificando a quantidade de registros de cada armazens\n",
    "dff[['Warehouse']].value_counts()"
   ]
  },
  {
   "cell_type": "code",
   "execution_count": 12,
   "id": "e2900752",
   "metadata": {},
   "outputs": [
    {
     "name": "stdout",
     "output_type": "stream",
     "text": [
      "Product_Code        2160\n",
      "Warehouse              4\n",
      "Product_Category      33\n",
      "Date                1729\n",
      "Order_Demand        3309\n",
      "Year                   7\n",
      "Month                 12\n",
      "Day                   31\n",
      "Test                  68\n",
      "dtype: int64\n",
      "\n",
      "Total of Order Demands: 5134173931\n"
     ]
    }
   ],
   "source": [
    "#Analisando os dados do DataFrame original\n",
    "xdf = dff['Order_Demand'].sum()\n",
    "print(dff.nunique())\n",
    "print(f'\\nTotal of Order Demands: {xdf}')"
   ]
  },
  {
   "cell_type": "code",
   "execution_count": 13,
   "id": "010743aa",
   "metadata": {},
   "outputs": [
    {
     "data": {
      "text/plain": [
       "Product_Code\n",
       "Product_1359    16936\n",
       "Product_1295    10575\n",
       "Product_1378     9770\n",
       "Product_0620     9428\n",
       "Product_1286     8888\n",
       "                ...  \n",
       "Product_1698        2\n",
       "Product_1703        1\n",
       "Product_0465        1\n",
       "Product_2099        1\n",
       "Product_0853        1\n",
       "Length: 2160, dtype: int64"
      ]
     },
     "execution_count": 13,
     "metadata": {},
     "output_type": "execute_result"
    }
   ],
   "source": [
    "df_prod = dff[['Product_Code','Order_Demand','Date','Month','Year','Test']]\n",
    "df_prod\n",
    "df_prod[['Product_Code']].value_counts()"
   ]
  },
  {
   "cell_type": "code",
   "execution_count": 14,
   "id": "e031c2c3",
   "metadata": {},
   "outputs": [
    {
     "data": {
      "text/html": [
       "<div>\n",
       "<style scoped>\n",
       "    .dataframe tbody tr th:only-of-type {\n",
       "        vertical-align: middle;\n",
       "    }\n",
       "\n",
       "    .dataframe tbody tr th {\n",
       "        vertical-align: top;\n",
       "    }\n",
       "\n",
       "    .dataframe thead th {\n",
       "        text-align: right;\n",
       "    }\n",
       "</style>\n",
       "<table border=\"1\" class=\"dataframe\">\n",
       "  <thead>\n",
       "    <tr style=\"text-align: right;\">\n",
       "      <th></th>\n",
       "      <th>Product_Code</th>\n",
       "      <th>Order_Demand</th>\n",
       "      <th>Date</th>\n",
       "      <th>Month</th>\n",
       "      <th>Year</th>\n",
       "      <th>Test</th>\n",
       "    </tr>\n",
       "  </thead>\n",
       "  <tbody>\n",
       "    <tr>\n",
       "      <th>152</th>\n",
       "      <td>Product_0620</td>\n",
       "      <td>10</td>\n",
       "      <td>2011/12/20</td>\n",
       "      <td>12</td>\n",
       "      <td>2011</td>\n",
       "      <td>2011-12-01</td>\n",
       "    </tr>\n",
       "    <tr>\n",
       "      <th>176</th>\n",
       "      <td>Product_0620</td>\n",
       "      <td>1</td>\n",
       "      <td>2011/12/20</td>\n",
       "      <td>12</td>\n",
       "      <td>2011</td>\n",
       "      <td>2011-12-01</td>\n",
       "    </tr>\n",
       "    <tr>\n",
       "      <th>177</th>\n",
       "      <td>Product_0620</td>\n",
       "      <td>2</td>\n",
       "      <td>2011/12/20</td>\n",
       "      <td>12</td>\n",
       "      <td>2011</td>\n",
       "      <td>2011-12-01</td>\n",
       "    </tr>\n",
       "    <tr>\n",
       "      <th>194</th>\n",
       "      <td>Product_0620</td>\n",
       "      <td>3</td>\n",
       "      <td>2011/12/21</td>\n",
       "      <td>12</td>\n",
       "      <td>2011</td>\n",
       "      <td>2011-12-01</td>\n",
       "    </tr>\n",
       "    <tr>\n",
       "      <th>216</th>\n",
       "      <td>Product_0620</td>\n",
       "      <td>3</td>\n",
       "      <td>2011/12/21</td>\n",
       "      <td>12</td>\n",
       "      <td>2011</td>\n",
       "      <td>2011-12-01</td>\n",
       "    </tr>\n",
       "    <tr>\n",
       "      <th>...</th>\n",
       "      <td>...</td>\n",
       "      <td>...</td>\n",
       "      <td>...</td>\n",
       "      <td>...</td>\n",
       "      <td>...</td>\n",
       "      <td>...</td>\n",
       "    </tr>\n",
       "    <tr>\n",
       "      <th>1036872</th>\n",
       "      <td>Product_0620</td>\n",
       "      <td>1</td>\n",
       "      <td>2016/9/9</td>\n",
       "      <td>9</td>\n",
       "      <td>2016</td>\n",
       "      <td>2016-09-01</td>\n",
       "    </tr>\n",
       "    <tr>\n",
       "      <th>1036962</th>\n",
       "      <td>Product_0620</td>\n",
       "      <td>2</td>\n",
       "      <td>2016/9/9</td>\n",
       "      <td>9</td>\n",
       "      <td>2016</td>\n",
       "      <td>2016-09-01</td>\n",
       "    </tr>\n",
       "    <tr>\n",
       "      <th>1037221</th>\n",
       "      <td>Product_0620</td>\n",
       "      <td>2</td>\n",
       "      <td>2016/9/9</td>\n",
       "      <td>9</td>\n",
       "      <td>2016</td>\n",
       "      <td>2016-09-01</td>\n",
       "    </tr>\n",
       "    <tr>\n",
       "      <th>1037249</th>\n",
       "      <td>Product_0620</td>\n",
       "      <td>1</td>\n",
       "      <td>2016/9/9</td>\n",
       "      <td>9</td>\n",
       "      <td>2016</td>\n",
       "      <td>2016-09-01</td>\n",
       "    </tr>\n",
       "    <tr>\n",
       "      <th>1037256</th>\n",
       "      <td>Product_0620</td>\n",
       "      <td>2</td>\n",
       "      <td>2016/9/9</td>\n",
       "      <td>9</td>\n",
       "      <td>2016</td>\n",
       "      <td>2016-09-01</td>\n",
       "    </tr>\n",
       "  </tbody>\n",
       "</table>\n",
       "<p>9428 rows × 6 columns</p>\n",
       "</div>"
      ],
      "text/plain": [
       "         Product_Code  Order_Demand        Date  Month  Year       Test\n",
       "152      Product_0620            10  2011/12/20     12  2011 2011-12-01\n",
       "176      Product_0620             1  2011/12/20     12  2011 2011-12-01\n",
       "177      Product_0620             2  2011/12/20     12  2011 2011-12-01\n",
       "194      Product_0620             3  2011/12/21     12  2011 2011-12-01\n",
       "216      Product_0620             3  2011/12/21     12  2011 2011-12-01\n",
       "...               ...           ...         ...    ...   ...        ...\n",
       "1036872  Product_0620             1    2016/9/9      9  2016 2016-09-01\n",
       "1036962  Product_0620             2    2016/9/9      9  2016 2016-09-01\n",
       "1037221  Product_0620             2    2016/9/9      9  2016 2016-09-01\n",
       "1037249  Product_0620             1    2016/9/9      9  2016 2016-09-01\n",
       "1037256  Product_0620             2    2016/9/9      9  2016 2016-09-01\n",
       "\n",
       "[9428 rows x 6 columns]"
      ]
     },
     "execution_count": 14,
     "metadata": {},
     "output_type": "execute_result"
    }
   ],
   "source": [
    "df = df_prod[(df_prod['Product_Code']=='Product_0620')]\n",
    "#df['Test'] = df['Year'].map(str) +'/'+ df['Month'].map(str)\n",
    "df"
   ]
  },
  {
   "cell_type": "code",
   "execution_count": 15,
   "id": "77f72342",
   "metadata": {},
   "outputs": [
    {
     "data": {
      "text/html": [
       "<div>\n",
       "<style scoped>\n",
       "    .dataframe tbody tr th:only-of-type {\n",
       "        vertical-align: middle;\n",
       "    }\n",
       "\n",
       "    .dataframe tbody tr th {\n",
       "        vertical-align: top;\n",
       "    }\n",
       "\n",
       "    .dataframe thead th {\n",
       "        text-align: right;\n",
       "    }\n",
       "</style>\n",
       "<table border=\"1\" class=\"dataframe\">\n",
       "  <thead>\n",
       "    <tr style=\"text-align: right;\">\n",
       "      <th></th>\n",
       "      <th>Order_Demand</th>\n",
       "      <th>Date</th>\n",
       "    </tr>\n",
       "  </thead>\n",
       "  <tbody>\n",
       "    <tr>\n",
       "      <th>152</th>\n",
       "      <td>10</td>\n",
       "      <td>2011-12-01</td>\n",
       "    </tr>\n",
       "    <tr>\n",
       "      <th>176</th>\n",
       "      <td>1</td>\n",
       "      <td>2011-12-01</td>\n",
       "    </tr>\n",
       "    <tr>\n",
       "      <th>177</th>\n",
       "      <td>2</td>\n",
       "      <td>2011-12-01</td>\n",
       "    </tr>\n",
       "    <tr>\n",
       "      <th>194</th>\n",
       "      <td>3</td>\n",
       "      <td>2011-12-01</td>\n",
       "    </tr>\n",
       "    <tr>\n",
       "      <th>216</th>\n",
       "      <td>3</td>\n",
       "      <td>2011-12-01</td>\n",
       "    </tr>\n",
       "    <tr>\n",
       "      <th>...</th>\n",
       "      <td>...</td>\n",
       "      <td>...</td>\n",
       "    </tr>\n",
       "    <tr>\n",
       "      <th>1036872</th>\n",
       "      <td>1</td>\n",
       "      <td>2016-09-01</td>\n",
       "    </tr>\n",
       "    <tr>\n",
       "      <th>1036962</th>\n",
       "      <td>2</td>\n",
       "      <td>2016-09-01</td>\n",
       "    </tr>\n",
       "    <tr>\n",
       "      <th>1037221</th>\n",
       "      <td>2</td>\n",
       "      <td>2016-09-01</td>\n",
       "    </tr>\n",
       "    <tr>\n",
       "      <th>1037249</th>\n",
       "      <td>1</td>\n",
       "      <td>2016-09-01</td>\n",
       "    </tr>\n",
       "    <tr>\n",
       "      <th>1037256</th>\n",
       "      <td>2</td>\n",
       "      <td>2016-09-01</td>\n",
       "    </tr>\n",
       "  </tbody>\n",
       "</table>\n",
       "<p>9428 rows × 2 columns</p>\n",
       "</div>"
      ],
      "text/plain": [
       "         Order_Demand       Date\n",
       "152                10 2011-12-01\n",
       "176                 1 2011-12-01\n",
       "177                 2 2011-12-01\n",
       "194                 3 2011-12-01\n",
       "216                 3 2011-12-01\n",
       "...               ...        ...\n",
       "1036872             1 2016-09-01\n",
       "1036962             2 2016-09-01\n",
       "1037221             2 2016-09-01\n",
       "1037249             1 2016-09-01\n",
       "1037256             2 2016-09-01\n",
       "\n",
       "[9428 rows x 2 columns]"
      ]
     },
     "execution_count": 15,
     "metadata": {},
     "output_type": "execute_result"
    }
   ],
   "source": [
    "df.drop(columns=['Month','Year','Date','Product_Code',],inplace=True)\n",
    "df['Date'] = df['Test']\n",
    "df.drop(columns='Test',inplace=True)\n",
    "df"
   ]
  },
  {
   "cell_type": "code",
   "execution_count": 16,
   "id": "dbb2baca",
   "metadata": {},
   "outputs": [
    {
     "data": {
      "text/html": [
       "<div>\n",
       "<style scoped>\n",
       "    .dataframe tbody tr th:only-of-type {\n",
       "        vertical-align: middle;\n",
       "    }\n",
       "\n",
       "    .dataframe tbody tr th {\n",
       "        vertical-align: top;\n",
       "    }\n",
       "\n",
       "    .dataframe thead th {\n",
       "        text-align: right;\n",
       "    }\n",
       "</style>\n",
       "<table border=\"1\" class=\"dataframe\">\n",
       "  <thead>\n",
       "    <tr style=\"text-align: right;\">\n",
       "      <th></th>\n",
       "      <th>Order_Demand</th>\n",
       "    </tr>\n",
       "    <tr>\n",
       "      <th>Date</th>\n",
       "      <th></th>\n",
       "    </tr>\n",
       "  </thead>\n",
       "  <tbody>\n",
       "    <tr>\n",
       "      <th>2011-12-01</th>\n",
       "      <td>129</td>\n",
       "    </tr>\n",
       "    <tr>\n",
       "      <th>2012-01-01</th>\n",
       "      <td>822</td>\n",
       "    </tr>\n",
       "    <tr>\n",
       "      <th>2012-02-01</th>\n",
       "      <td>960</td>\n",
       "    </tr>\n",
       "    <tr>\n",
       "      <th>2012-03-01</th>\n",
       "      <td>923</td>\n",
       "    </tr>\n",
       "    <tr>\n",
       "      <th>2012-04-01</th>\n",
       "      <td>1276</td>\n",
       "    </tr>\n",
       "    <tr>\n",
       "      <th>...</th>\n",
       "      <td>...</td>\n",
       "    </tr>\n",
       "    <tr>\n",
       "      <th>2016-08-01</th>\n",
       "      <td>827</td>\n",
       "    </tr>\n",
       "    <tr>\n",
       "      <th>2016-09-01</th>\n",
       "      <td>709</td>\n",
       "    </tr>\n",
       "    <tr>\n",
       "      <th>2016-10-01</th>\n",
       "      <td>993</td>\n",
       "    </tr>\n",
       "    <tr>\n",
       "      <th>2016-11-01</th>\n",
       "      <td>1159</td>\n",
       "    </tr>\n",
       "    <tr>\n",
       "      <th>2016-12-01</th>\n",
       "      <td>899</td>\n",
       "    </tr>\n",
       "  </tbody>\n",
       "</table>\n",
       "<p>61 rows × 1 columns</p>\n",
       "</div>"
      ],
      "text/plain": [
       "            Order_Demand\n",
       "Date                    \n",
       "2011-12-01           129\n",
       "2012-01-01           822\n",
       "2012-02-01           960\n",
       "2012-03-01           923\n",
       "2012-04-01          1276\n",
       "...                  ...\n",
       "2016-08-01           827\n",
       "2016-09-01           709\n",
       "2016-10-01           993\n",
       "2016-11-01          1159\n",
       "2016-12-01           899\n",
       "\n",
       "[61 rows x 1 columns]"
      ]
     },
     "execution_count": 16,
     "metadata": {},
     "output_type": "execute_result"
    }
   ],
   "source": [
    "df = df.groupby(by=['Date']).sum()\n",
    "df\n"
   ]
  },
  {
   "cell_type": "code",
   "execution_count": 17,
   "id": "32166779",
   "metadata": {},
   "outputs": [],
   "source": [
    "#df['Order_Demand'] = df['Order_Demand'] - df['Order_Demand'].shift() "
   ]
  },
  {
   "cell_type": "code",
   "execution_count": 18,
   "id": "0a4b9ea2",
   "metadata": {},
   "outputs": [],
   "source": [
    "df = df.iloc[1:]"
   ]
  },
  {
   "cell_type": "code",
   "execution_count": 19,
   "id": "34dd399d",
   "metadata": {},
   "outputs": [],
   "source": [
    "#train = df[:size]\n",
    "#test = df"
   ]
  },
  {
   "cell_type": "code",
   "execution_count": 20,
   "id": "13690391",
   "metadata": {},
   "outputs": [
    {
     "data": {
      "text/plain": [
       "\"series_train = train['Order_Demand'].squeeze()\\nseries_test = df\\nseries_test\""
      ]
     },
     "execution_count": 20,
     "metadata": {},
     "output_type": "execute_result"
    }
   ],
   "source": [
    "'''series_train = train['Order_Demand'].squeeze()\n",
    "series_test = df\n",
    "series_test'''"
   ]
  },
  {
   "cell_type": "code",
   "execution_count": 21,
   "id": "dca6fdb7",
   "metadata": {},
   "outputs": [
    {
     "data": {
      "text/plain": [
       "Date\n",
       "2012-01-01     822\n",
       "2012-02-01     960\n",
       "2012-03-01     923\n",
       "2012-04-01    1276\n",
       "2012-05-01     641\n",
       "2012-06-01     955\n",
       "2012-07-01     755\n",
       "2012-08-01     871\n",
       "2012-09-01     534\n",
       "2012-10-01     914\n",
       "2012-11-01     641\n",
       "2012-12-01     605\n",
       "2013-01-01     923\n",
       "2013-02-01     488\n",
       "2013-03-01     821\n",
       "2013-04-01     663\n",
       "2013-05-01     631\n",
       "2013-06-01     990\n",
       "2013-07-01     601\n",
       "2013-08-01     748\n",
       "2013-09-01     952\n",
       "2013-10-01     899\n",
       "2013-11-01     725\n",
       "2013-12-01     944\n",
       "2014-01-01    1133\n",
       "2014-02-01     763\n",
       "2014-03-01     939\n",
       "2014-04-01     679\n",
       "2014-05-01     677\n",
       "2014-06-01    1044\n",
       "2014-07-01     996\n",
       "2014-08-01    1373\n",
       "2014-09-01     775\n",
       "2014-10-01    1040\n",
       "2014-11-01     949\n",
       "2014-12-01    1126\n",
       "2015-01-01    1205\n",
       "2015-02-01     936\n",
       "2015-03-01    2006\n",
       "2015-04-01     836\n",
       "2015-05-01    1674\n",
       "2015-06-01    2373\n",
       "2015-07-01    1476\n",
       "2015-08-01     634\n",
       "2015-09-01    1090\n",
       "2015-10-01     810\n",
       "2015-11-01     943\n",
       "2015-12-01     911\n",
       "2016-01-01     926\n",
       "2016-02-01     728\n",
       "2016-03-01    1272\n",
       "2016-04-01     996\n",
       "2016-05-01     624\n",
       "2016-06-01     876\n",
       "2016-07-01     981\n",
       "2016-08-01     827\n",
       "2016-09-01     709\n",
       "2016-10-01     993\n",
       "2016-11-01    1159\n",
       "2016-12-01     899\n",
       "Name: Order_Demand, dtype: int32"
      ]
     },
     "execution_count": 21,
     "metadata": {},
     "output_type": "execute_result"
    }
   ],
   "source": [
    "series = df['Order_Demand'].squeeze()\n",
    "series"
   ]
  },
  {
   "cell_type": "code",
   "execution_count": null,
   "id": "c458bc22",
   "metadata": {},
   "outputs": [],
   "source": []
  },
  {
   "cell_type": "code",
   "execution_count": 22,
   "id": "7bc2d01b",
   "metadata": {},
   "outputs": [
    {
     "data": {
      "text/plain": [
       "'model = ARIMA(series_train,order=(4,2,2))'"
      ]
     },
     "execution_count": 22,
     "metadata": {},
     "output_type": "execute_result"
    }
   ],
   "source": [
    "'''model = ARIMA(series_train,order=(4,2,2))'''"
   ]
  },
  {
   "cell_type": "code",
   "execution_count": 23,
   "id": "36806fd5",
   "metadata": {},
   "outputs": [
    {
     "data": {
      "text/plain": [
       "'model_fit = model.fit()'"
      ]
     },
     "execution_count": 23,
     "metadata": {},
     "output_type": "execute_result"
    }
   ],
   "source": [
    "'''model_fit = model.fit()'''"
   ]
  },
  {
   "cell_type": "code",
   "execution_count": 24,
   "id": "3779071f",
   "metadata": {},
   "outputs": [
    {
     "data": {
      "text/plain": [
       "'model_fit.summary()'"
      ]
     },
     "execution_count": 24,
     "metadata": {},
     "output_type": "execute_result"
    }
   ],
   "source": [
    "'''model_fit.summary()'''"
   ]
  },
  {
   "cell_type": "code",
   "execution_count": 34,
   "id": "2e0f464c",
   "metadata": {},
   "outputs": [],
   "source": [
    "X = series.values\n",
    "X = X.astype('float32')"
   ]
  },
  {
   "cell_type": "code",
   "execution_count": 57,
   "id": "2d749f95",
   "metadata": {},
   "outputs": [],
   "source": [
    "size = int(len(df) - 2)"
   ]
  },
  {
   "cell_type": "code",
   "execution_count": 58,
   "id": "f6a9f3c4",
   "metadata": {},
   "outputs": [],
   "source": [
    "train = X[0:size]\n",
    "test =  X"
   ]
  },
  {
   "cell_type": "code",
   "execution_count": 59,
   "id": "80fd06a3",
   "metadata": {},
   "outputs": [],
   "source": [
    "history = [x for x in train]"
   ]
  },
  {
   "cell_type": "code",
   "execution_count": 60,
   "id": "9ea736a9",
   "metadata": {},
   "outputs": [],
   "source": [
    "predictions = list()"
   ]
  },
  {
   "cell_type": "code",
   "execution_count": 61,
   "id": "81ec0fb9",
   "metadata": {},
   "outputs": [],
   "source": [
    "# Cria a função que faz a diferenciação\n",
    "def difference(dataset, interval=1):\n",
    "    diff = list() \n",
    "    for i in range(interval, len(dataset)):\n",
    "        value = dataset[i] - dataset[i - interval]\n",
    "        diff.append(value)\n",
    "    return diff\n",
    "\n",
    "# cria função que reverte o valor diferenciado para o original\n",
    "def inverse_difference(history, previsao, interval=1):\n",
    "    return previsao + history[-interval]"
   ]
  },
  {
   "cell_type": "code",
   "execution_count": 62,
   "id": "11f93688",
   "metadata": {},
   "outputs": [
    {
     "name": "stdout",
     "output_type": "stream",
     "text": [
      "Valor predito=1052.221, Valor esperado=822\n",
      "Valor predito=838.943, Valor esperado=960\n",
      "Valor predito=963.809, Valor esperado=923\n",
      "Valor predito=715.189, Valor esperado=1276\n",
      "Valor predito=1445.856, Valor esperado=641\n",
      "Valor predito=779.272, Valor esperado=955\n",
      "Valor predito=667.775, Valor esperado=755\n",
      "Valor predito=899.051, Valor esperado=871\n",
      "Valor predito=973.494, Valor esperado=534\n",
      "Valor predito=709.112, Valor esperado=914\n",
      "Valor predito=762.081, Valor esperado=641\n",
      "Valor predito=961.739, Valor esperado=605\n",
      "Valor predito=727.817, Valor esperado=923\n",
      "Valor predito=1010.599, Valor esperado=488\n",
      "Valor predito=792.353, Valor esperado=821\n",
      "Valor predito=1283.013, Valor esperado=663\n",
      "Valor predito=490.398, Valor esperado=631\n",
      "Valor predito=987.550, Valor esperado=990\n",
      "Valor predito=755.576, Valor esperado=601\n",
      "Valor predito=834.143, Valor esperado=748\n",
      "Valor predito=513.413, Valor esperado=952\n",
      "Valor predito=1018.300, Valor esperado=899\n",
      "Valor predito=613.354, Valor esperado=725\n",
      "Valor predito=630.951, Valor esperado=944\n",
      "Valor predito=996.843, Valor esperado=1133\n",
      "Valor predito=520.333, Valor esperado=763\n",
      "Valor predito=879.128, Valor esperado=939\n",
      "Valor predito=677.351, Valor esperado=679\n",
      "Valor predito=631.397, Valor esperado=677\n",
      "Valor predito=1000.969, Valor esperado=1044\n",
      "Valor predito=611.355, Valor esperado=996\n",
      "Valor predito=840.851, Valor esperado=1373\n",
      "Valor predito=1085.578, Valor esperado=775\n",
      "Valor predito=823.660, Valor esperado=1040\n",
      "Valor predito=776.433, Valor esperado=949\n",
      "Valor predito=985.739, Valor esperado=1126\n",
      "Valor predito=1167.214, Valor esperado=1205\n",
      "Valor predito=772.225, Valor esperado=936\n",
      "Valor predito=979.035, Valor esperado=2006\n",
      "Valor predito=939.224, Valor esperado=836\n",
      "Valor predito=652.706, Valor esperado=1674\n",
      "Valor predito=1278.561, Valor esperado=2373\n",
      "Valor predito=1292.775, Valor esperado=1476\n",
      "Valor predito=1425.656, Valor esperado=634\n",
      "Valor predito=542.028, Valor esperado=1090\n",
      "Valor predito=1186.656, Valor esperado=810\n",
      "Valor predito=852.336, Valor esperado=943\n",
      "Valor predito=1149.333, Valor esperado=911\n",
      "Valor predito=1143.540, Valor esperado=926\n",
      "Valor predito=879.388, Valor esperado=728\n",
      "Valor predito=1966.350, Valor esperado=1272\n",
      "Valor predito=651.799, Valor esperado=996\n",
      "Valor predito=1760.512, Valor esperado=624\n",
      "Valor predito=2110.619, Valor esperado=876\n",
      "Valor predito=1137.676, Valor esperado=981\n",
      "Valor predito=588.609, Valor esperado=827\n",
      "Valor predito=1160.687, Valor esperado=709\n",
      "Valor predito=677.828, Valor esperado=993\n",
      "Valor predito=1032.741, Valor esperado=1159\n",
      "Valor predito=947.273, Valor esperado=899\n"
     ]
    }
   ],
   "source": [
    "# inicia Walk-Forward\n",
    "for t in range(len(test)):\n",
    "  \n",
    "    # difference data\n",
    "    meses_no_ano = 12\n",
    "    diff = difference(history, meses_no_ano)\n",
    "\n",
    "\n",
    "    # cria um modelo ARIMA com os dados de history\n",
    "    model = ARIMA(diff, order=(0,0,1))\n",
    "\n",
    "    # treina o modelo ARIMA\n",
    "    model_fit = model.fit(trend='nc', disp=0)\n",
    "\n",
    "    # a variável valor_predito recebe o valor previsto pelo modelo\n",
    "    valor_predito = model_fit.forecast()[0]\n",
    "\n",
    "    # valor_predito recebe o valor revertido (escala original)\n",
    "    valor_predito = inverse_difference(history, valor_predito, meses_no_ano)\n",
    "\n",
    "    # adiciona o valor predito na lista de predicões\n",
    "    predictions.append(valor_predito)\n",
    "\n",
    "    # a variável valor_real recebe o valor real do teste\n",
    "    valor_real = test[t]\n",
    "\n",
    "    # adiciona o valor real a variável history\n",
    "    history.append(valor_real)\n",
    "\n",
    "    # imprime valor predito e valor real\n",
    "    print('Valor predito=%.3f, Valor esperado=%3.f' % (valor_predito, valor_real))"
   ]
  },
  {
   "cell_type": "code",
   "execution_count": 87,
   "id": "73f9b15b",
   "metadata": {},
   "outputs": [
    {
     "name": "stdout",
     "output_type": "stream",
     "text": [
      "Test RMSE: 48.27\n"
     ]
    }
   ],
   "source": [
    "from numpy import sqrt\n",
    "from sklearn.metrics import mean_squared_error\n",
    "rmse = sqrt(mean_squared_error(test[59:], predictions[59:]))\n",
    "print('Test RMSE: %.2f' % rmse)"
   ]
  },
  {
   "cell_type": "code",
   "execution_count": 82,
   "id": "e381bb07",
   "metadata": {},
   "outputs": [
    {
     "data": {
      "text/plain": [
       "48.273057723528154"
      ]
     },
     "execution_count": 82,
     "metadata": {},
     "output_type": "execute_result"
    }
   ],
   "source": [
    "from sklearn.metrics import mean_absolute_error\n",
    "mean_absolute_error(test[59:], predictions[59:])"
   ]
  },
  {
   "cell_type": "code",
   "execution_count": 73,
   "id": "73457fd8",
   "metadata": {},
   "outputs": [
    {
     "data": {
      "image/png": "[encoded data removed]",
      "text/plain": [
       "<Figure size 1152x576 with 1 Axes>"
      ]
     },
     "metadata": {
      "needs_background": "light"
     },
     "output_type": "display_data"
    }
   ],
   "source": [
    "plt.figure(figsize=(16,8))\n",
    "plt.plot(test, color='orange')\n",
    "plt.plot(predictions, color='blue')\n",
    "plt.axvline(x=58,color='gray')\n",
    "plt.show()"
   ]
  },
  {
   "cell_type": "code",
   "execution_count": null,
   "id": "9ec24d56",
   "metadata": {},
   "outputs": [],
   "source": []
  },
  {
   "cell_type": "code",
   "execution_count": null,
   "id": "d38488ff",
   "metadata": {},
   "outputs": [],
   "source": []
  }
 ],
 "metadata": {
  "kernelspec": {
   "display_name": "Python 3",
   "language": "python",
   "name": "python3"
  },
  "language_info": {
   "codemirror_mode": {
    "name": "ipython",
    "version": 3
   },
   "file_extension": ".py",
   "mimetype": "text/x-python",
   "name": "python",
   "nbconvert_exporter": "python",
   "pygments_lexer": "ipython3",
   "version": "3.8.8"
  }
 },
 "nbformat": 4,
 "nbformat_minor": 5
}
